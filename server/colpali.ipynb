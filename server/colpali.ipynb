{
 "cells": [
  {
   "cell_type": "code",
   "execution_count": null,
   "id": "caecf5269cc9e83b",
   "metadata": {},
   "outputs": [],
   "source": [
    "import torch\n",
    "from PIL import Image\n",
    "\n",
    "from colpali_engine.models import ColPali, ColPaliProcessor\n",
    "from transformers import BitsAndBytesConfig\n",
    "quantization_config = BitsAndBytesConfig(load_in_8bit=True)\n",
    "\n",
    "model_name = \"vidore/colpali-v1.2\"\n",
    "\n",
    "# help(ColPali.from_pretrained)\n",
    "# help(ColPaliProcessor.from_pretrained)\n",
    "\n",
    "model = ColPali.from_pretrained(\n",
    "    model_name,\n",
    "    torch_dtype=torch.float16,\n",
    "    device_map=\"cuda:0\",\n",
    "    quantization_config=quantization_config,\n",
    ").eval()\n",
    "\n",
    "processor = ColPaliProcessor.from_pretrained(model_name, quantization_config=quantization_config)\n"
   ]
  },
  {
   "cell_type": "code",
   "execution_count": null,
   "id": "79f72110743b38ea",
   "metadata": {},
   "outputs": [],
   "source": [
    "# These both have to be arrays for processing :( \n",
    "images = [\n",
    "    Image.open(\"./screenshots/mob.jpg\")\n",
    "]\n",
    "\n",
    "queries = [\n",
    "    \"mobile\"\n",
    "]\n",
    "\n",
    "# Process the inputs\n",
    "batch_images = processor.process_images(images).to(model.device)\n",
    "batch_queries = processor.process_queries(queries).to(model.device)\n",
    "\n",
    "print(type(processor))\n"
   ]
  },
  {
   "cell_type": "code",
   "execution_count": null,
   "id": "62b5e1edcf840b94",
   "metadata": {},
   "outputs": [],
   "source": [
    "# Forward pass\n",
    "# torch.cuda.empty_cache()\n",
    "with torch.no_grad():\n",
    "    image_embeddings = model(**batch_images)\n",
    "    query_embeddings = model(**batch_queries)\n",
    "\n",
    "\n",
    "np_image_embeddings = image_embeddings.cpu().detach().numpy() #img emb in numpy\n",
    "np_query_embeddings = query_embeddings.cpu().detach().numpy() #query emb in numpy\n",
    "\n",
    "print(np_image_embeddings)\n",
    "\n",
    "scores = processor.score_multi_vector(query_embeddings, image_embeddings)\n",
    "scores\n"
   ]
  },
  {
   "cell_type": "code",
   "execution_count": 1,
   "id": "da00fb16d8909631",
   "metadata": {
    "ExecuteTime": {
     "end_time": "2024-10-14T18:13:36.067523Z",
     "start_time": "2024-10-14T18:13:24.415934Z"
    }
   },
   "outputs": [
    {
     "name": "stderr",
     "output_type": "stream",
     "text": [
      "`config.hidden_act` is ignored, you should use `config.hidden_activation` instead.\n",
      "Gemma's activation function will be set to `gelu_pytorch_tanh`. Please, use\n",
      "`config.hidden_activation` if you want to override this behaviour.\n",
      "See https://github.com/huggingface/transformers/pull/29402 for more details.\n"
     ]
    },
    {
     "data": {
      "application/vnd.jupyter.widget-view+json": {
       "model_id": "26a38d151f804f2e91b34b358676a433",
       "version_major": 2,
       "version_minor": 0
      },
      "text/plain": [
       "Loading checkpoint shards:   0%|          | 0/2 [00:00<?, ?it/s]"
      ]
     },
     "metadata": {},
     "output_type": "display_data"
    },
    {
     "name": "stderr",
     "output_type": "stream",
     "text": [
      "Starting from v4.46, the `logits` model output will have the same type as the model (except at train time, where it will always be FP32)\n"
     ]
    },
    {
     "name": "stdout",
     "output_type": "stream",
     "text": [
      "Image emb:  (1, 1030, 128)\n",
      "Text emb:  (1, 15, 128)\n"
     ]
    }
   ],
   "source": [
    "from vectors import get_img_emb, get_text_emb\n",
    "\n",
    "# print(get_img_emb(\"./screenshots/mob.jpg\"))\n",
    "# print(get_text_emb(\"mobile\"))\n",
    "\n",
    "img_emb = get_img_emb(\"./screenshots/mob.jpg\")\n",
    "text_emb = get_text_emb(\"iphone\")\n",
    "\n",
    "print(\"Image emb: \", img_emb.shape)\n",
    "print(\"Text emb: \", text_emb.shape)"
   ]
  }
 ],
 "metadata": {
  "kernelspec": {
   "display_name": "Python 3 (ipykernel)",
   "language": "python",
   "name": "python3"
  },
  "language_info": {
   "codemirror_mode": {
    "name": "ipython",
    "version": 3
   },
   "file_extension": ".py",
   "mimetype": "text/x-python",
   "name": "python",
   "nbconvert_exporter": "python",
   "pygments_lexer": "ipython3",
   "version": "3.12.6"
  }
 },
 "nbformat": 4,
 "nbformat_minor": 5
}
