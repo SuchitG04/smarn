{
 "cells": [
  {
   "cell_type": "code",
   "execution_count": null,
   "id": "caecf5269cc9e83b",
   "metadata": {},
   "outputs": [],
   "source": [
    "import torch\n",
    "from PIL import Image\n",
    "\n",
    "from colpali_engine.models import ColPali, ColPaliProcessor\n",
    "from transformers import BitsAndBytesConfig\n",
    "quantization_config = BitsAndBytesConfig(load_in_8bit=True)\n",
    "\n",
    "model_name = \"vidore/colpali-v1.2\"\n",
    "\n",
    "# help(ColPali.from_pretrained)\n",
    "# help(ColPaliProcessor.from_pretrained)\n",
    "\n",
    "model = ColPali.from_pretrained(\n",
    "    model_name,\n",
    "    torch_dtype=torch.float16,\n",
    "    device_map=\"cuda:0\",\n",
    "    quantization_config=quantization_config,\n",
    ").eval()\n",
    "\n",
    "processor = ColPaliProcessor.from_pretrained(model_name, quantization_config=quantization_config)\n"
   ]
  },
  {
   "cell_type": "code",
   "execution_count": null,
   "id": "79f72110743b38ea",
   "metadata": {},
   "outputs": [],
   "source": [
    "# These both have to be arrays for processing :( \n",
    "images = [\n",
    "    Image.open(\"./screenshots/mob.jpg\")\n",
    "]\n",
    "\n",
    "queries = [\n",
    "    \"mobile\"\n",
    "]\n",
    "\n",
    "# Process the inputs\n",
    "batch_images = processor.process_images(images).to(model.device)\n",
    "batch_queries = processor.process_queries(queries).to(model.device)\n",
    "\n",
    "print(type(processor))\n"
   ]
  },
  {
   "cell_type": "code",
   "execution_count": null,
   "id": "62b5e1edcf840b94",
   "metadata": {},
   "outputs": [],
   "source": [
    "# Forward pass\n",
    "# torch.cuda.empty_cache()\n",
    "with torch.no_grad():\n",
    "    image_embeddings = model(**batch_images)\n",
    "    query_embeddings = model(**batch_queries)\n",
    "\n",
    "\n",
    "np_image_embeddings = image_embeddings.cpu().detach().numpy() #img emb in numpy\n",
    "np_query_embeddings = query_embeddings.cpu().detach().numpy() #query emb in numpy\n",
    "\n",
    "print(np_image_embeddings)\n",
    "\n",
    "scores = processor.score_multi_vector(query_embeddings, image_embeddings)\n",
    "scores\n"
   ]
  },
  {
   "cell_type": "code",
   "execution_count": 3,
   "id": "da00fb16d8909631",
   "metadata": {
    "ExecuteTime": {
     "end_time": "2024-10-14T18:13:36.067523Z",
     "start_time": "2024-10-14T18:13:24.415934Z"
    }
   },
   "outputs": [
    {
     "ename": "ModuleNotFoundError",
     "evalue": "No module named 'colpali_engine'",
     "output_type": "error",
     "traceback": [
      "\u001b[0;31m---------------------------------------------------------------------------\u001b[0m",
      "\u001b[0;31mModuleNotFoundError\u001b[0m                       Traceback (most recent call last)",
      "Cell \u001b[0;32mIn[3], line 6\u001b[0m\n\u001b[1;32m      1\u001b[0m \u001b[38;5;28;01mfrom\u001b[39;00m \u001b[38;5;21;01mvectors\u001b[39;00m \u001b[38;5;28;01mimport\u001b[39;00m get_img_emb, get_text_emb\n\u001b[1;32m      3\u001b[0m \u001b[38;5;66;03m# print(get_img_emb(\"./screenshots/mob.jpg\"))\u001b[39;00m\n\u001b[1;32m      4\u001b[0m \u001b[38;5;66;03m# print(get_text_emb(\"mobile\"))\u001b[39;00m\n\u001b[0;32m----> 6\u001b[0m img_emb \u001b[38;5;241m=\u001b[39m \u001b[43mget_img_emb\u001b[49m\u001b[43m(\u001b[49m\u001b[38;5;124;43m\"\u001b[39;49m\u001b[38;5;124;43m./screenshots/mob.jpg\u001b[39;49m\u001b[38;5;124;43m\"\u001b[39;49m\u001b[43m)\u001b[49m\n\u001b[1;32m      7\u001b[0m text_emb \u001b[38;5;241m=\u001b[39m get_text_emb(\u001b[38;5;124m\"\u001b[39m\u001b[38;5;124miphone\u001b[39m\u001b[38;5;124m\"\u001b[39m)\n\u001b[1;32m      9\u001b[0m \u001b[38;5;28mprint\u001b[39m(\u001b[38;5;124m\"\u001b[39m\u001b[38;5;124mImage emb: \u001b[39m\u001b[38;5;124m\"\u001b[39m, img_emb\u001b[38;5;241m.\u001b[39mshape)\n",
      "File \u001b[0;32m~/Projects/smarn/server/vectors.py:65\u001b[0m, in \u001b[0;36mget_img_emb\u001b[0;34m(path)\u001b[0m\n\u001b[1;32m     62\u001b[0m     \u001b[38;5;28;01mraise\u001b[39;00m \u001b[38;5;167;01mValueError\u001b[39;00m(\u001b[38;5;124m\"\u001b[39m\u001b[38;5;124mImage path does not exist!\u001b[39m\u001b[38;5;124m\"\u001b[39m)\n\u001b[1;32m     64\u001b[0m \u001b[38;5;28;01mglobal\u001b[39;00m model, processor, device\n\u001b[0;32m---> 65\u001b[0m \u001b[43mload_model\u001b[49m\u001b[43m(\u001b[49m\u001b[43m)\u001b[49m\n\u001b[1;32m     66\u001b[0m \u001b[38;5;28;01mif\u001b[39;00m model \u001b[38;5;129;01mis\u001b[39;00m \u001b[38;5;28;01mNone\u001b[39;00m \u001b[38;5;129;01mor\u001b[39;00m processor \u001b[38;5;129;01mis\u001b[39;00m \u001b[38;5;28;01mNone\u001b[39;00m \u001b[38;5;129;01mor\u001b[39;00m device \u001b[38;5;129;01mis\u001b[39;00m \u001b[38;5;28;01mNone\u001b[39;00m:\n\u001b[1;32m     67\u001b[0m     \u001b[38;5;28;01mraise\u001b[39;00m \u001b[38;5;167;01mValueError\u001b[39;00m(\u001b[38;5;124m\"\u001b[39m\u001b[38;5;124mModel or processor was not loaded properly.\u001b[39m\u001b[38;5;124m\"\u001b[39m)\n",
      "File \u001b[0;32m~/Projects/smarn/server/vectors.py:29\u001b[0m, in \u001b[0;36mload_model\u001b[0;34m()\u001b[0m\n\u001b[1;32m     27\u001b[0m \u001b[38;5;28;01mif\u001b[39;00m model \u001b[38;5;129;01mis\u001b[39;00m \u001b[38;5;28;01mNone\u001b[39;00m:\n\u001b[1;32m     28\u001b[0m     \u001b[38;5;28;01mif\u001b[39;00m torch\u001b[38;5;241m.\u001b[39mcuda\u001b[38;5;241m.\u001b[39mis_available():\n\u001b[0;32m---> 29\u001b[0m         \u001b[38;5;28;01mfrom\u001b[39;00m \u001b[38;5;21;01mcolpali_engine\u001b[39;00m\u001b[38;5;21;01m.\u001b[39;00m\u001b[38;5;21;01mmodels\u001b[39;00m \u001b[38;5;28;01mimport\u001b[39;00m ColPali, ColPaliProcessor\n\u001b[1;32m     31\u001b[0m         quantization_config \u001b[38;5;241m=\u001b[39m BitsAndBytesConfig(load_in_8bit\u001b[38;5;241m=\u001b[39m\u001b[38;5;28;01mTrue\u001b[39;00m)\n\u001b[1;32m     32\u001b[0m         model_name \u001b[38;5;241m=\u001b[39m \u001b[38;5;124m\"\u001b[39m\u001b[38;5;124mvidore/colpali-v1.2\u001b[39m\u001b[38;5;124m\"\u001b[39m\n",
      "\u001b[0;31mModuleNotFoundError\u001b[0m: No module named 'colpali_engine'"
     ]
    }
   ],
   "source": [
    "from vectors import get_img_emb, get_text_emb\n",
    "\n",
    "# print(get_img_emb(\"./screenshots/mob.jpg\"))\n",
    "# print(get_text_emb(\"mobile\"))\n",
    "\n",
    "img_emb = get_img_emb(\"./screenshots/mob.jpg\")\n",
    "text_emb = get_text_emb(\"iphone\")\n",
    "\n",
    "print(\"Image emb: \", img_emb.shape)\n",
    "print(\"Text emb: \", text_emb.shape)"
   ]
  },
  {
   "cell_type": "code",
   "execution_count": 7,
   "id": "95eb8af4",
   "metadata": {},
   "outputs": [
    {
     "data": {
      "text/plain": [
       "True"
      ]
     },
     "execution_count": 7,
     "metadata": {},
     "output_type": "execute_result"
    }
   ],
   "source": [
    "import torch\n",
    "\n",
    "torch.cuda.is_available()"
   ]
  },
  {
   "cell_type": "code",
   "execution_count": null,
   "id": "e5e7e2b8",
   "metadata": {},
   "outputs": [],
   "source": []
  }
 ],
 "metadata": {
  "kernelspec": {
   "display_name": ".venv",
   "language": "python",
   "name": "python3"
  },
  "language_info": {
   "codemirror_mode": {
    "name": "ipython",
    "version": 3
   },
   "file_extension": ".py",
   "mimetype": "text/x-python",
   "name": "python",
   "nbconvert_exporter": "python",
   "pygments_lexer": "ipython3",
   "version": "3.12.7"
  }
 },
 "nbformat": 4,
 "nbformat_minor": 5
}
