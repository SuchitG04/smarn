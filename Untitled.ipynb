{
 "cells": [
  {
   "cell_type": "code",
   "execution_count": 3,
   "id": "7f3a7cd9-2592-420b-8e01-9104ff9d2ef9",
   "metadata": {},
   "outputs": [
    {
     "data": {
      "application/vnd.jupyter.widget-view+json": {
       "model_id": "e9f66b11cfe44af1a27677f7ca76756e",
       "version_major": 2,
       "version_minor": 0
      },
      "text/plain": [
       "eva_model.py:   0%|          | 0.00/26.3k [00:00<?, ?B/s]"
      ]
     },
     "metadata": {},
     "output_type": "display_data"
    },
    {
     "name": "stderr",
     "output_type": "stream",
     "text": [
      "A new version of the following files was downloaded from https://huggingface.co/jinaai/jina-clip-implementation:\n",
      "- eva_model.py\n",
      ". Make sure to double-check they do not contain any added malicious code. To avoid downloading new versions of the code file, you can pin a revision.\n",
      "A new version of the following files was downloaded from https://huggingface.co/jinaai/jina-clip-implementation:\n",
      "- transform.py\n",
      "- eva_model.py\n",
      ". Make sure to double-check they do not contain any added malicious code. To avoid downloading new versions of the code file, you can pin a revision.\n"
     ]
    },
    {
     "data": {
      "application/vnd.jupyter.widget-view+json": {
       "model_id": "65a6a7e69e2e4e46a0ebf64670fb4829",
       "version_major": 2,
       "version_minor": 0
      },
      "text/plain": [
       "model.safetensors:   0%|          | 0.00/891M [00:00<?, ?B/s]"
      ]
     },
     "metadata": {},
     "output_type": "display_data"
    },
    {
     "data": {
      "application/vnd.jupyter.widget-view+json": {
       "model_id": "ecfd3821ec8a40e8ac640536aeae9272",
       "version_major": 2,
       "version_minor": 0
      },
      "text/plain": [
       "config.json:   0%|          | 0.00/1.24k [00:00<?, ?B/s]"
      ]
     },
     "metadata": {},
     "output_type": "display_data"
    },
    {
     "data": {
      "application/vnd.jupyter.widget-view+json": {
       "model_id": "1e27725cb8034555b08820af81e36045",
       "version_major": 2,
       "version_minor": 0
      },
      "text/plain": [
       "configuration_bert.py:   0%|          | 0.00/5.77k [00:00<?, ?B/s]"
      ]
     },
     "metadata": {},
     "output_type": "display_data"
    },
    {
     "name": "stderr",
     "output_type": "stream",
     "text": [
      "A new version of the following files was downloaded from https://huggingface.co/jinaai/jina-bert-flash-implementation:\n",
      "- configuration_bert.py\n",
      ". Make sure to double-check they do not contain any added malicious code. To avoid downloading new versions of the code file, you can pin a revision.\n"
     ]
    },
    {
     "data": {
      "application/vnd.jupyter.widget-view+json": {
       "model_id": "9f05d3c47eba40aeb20b5673514182b2",
       "version_major": 2,
       "version_minor": 0
      },
      "text/plain": [
       "modeling_bert.py:   0%|          | 0.00/33.4k [00:00<?, ?B/s]"
      ]
     },
     "metadata": {},
     "output_type": "display_data"
    },
    {
     "data": {
      "application/vnd.jupyter.widget-view+json": {
       "model_id": "0d49a5fc221342d1926c494251d222f5",
       "version_major": 2,
       "version_minor": 0
      },
      "text/plain": [
       "block.py:   0%|          | 0.00/17.4k [00:00<?, ?B/s]"
      ]
     },
     "metadata": {},
     "output_type": "display_data"
    },
    {
     "data": {
      "application/vnd.jupyter.widget-view+json": {
       "model_id": "495aa515203c472fb74f972f5fb8a741",
       "version_major": 2,
       "version_minor": 0
      },
      "text/plain": [
       "mlp.py:   0%|          | 0.00/8.05k [00:00<?, ?B/s]"
      ]
     },
     "metadata": {},
     "output_type": "display_data"
    },
    {
     "name": "stderr",
     "output_type": "stream",
     "text": [
      "A new version of the following files was downloaded from https://huggingface.co/jinaai/jina-bert-flash-implementation:\n",
      "- mlp.py\n",
      ". Make sure to double-check they do not contain any added malicious code. To avoid downloading new versions of the code file, you can pin a revision.\n"
     ]
    },
    {
     "data": {
      "application/vnd.jupyter.widget-view+json": {
       "model_id": "3403c20d84a84064b85789e95bbd143b",
       "version_major": 2,
       "version_minor": 0
      },
      "text/plain": [
       "mha.py:   0%|          | 0.00/35.4k [00:00<?, ?B/s]"
      ]
     },
     "metadata": {},
     "output_type": "display_data"
    },
    {
     "name": "stderr",
     "output_type": "stream",
     "text": [
      "A new version of the following files was downloaded from https://huggingface.co/jinaai/jina-bert-flash-implementation:\n",
      "- mha.py\n",
      ". Make sure to double-check they do not contain any added malicious code. To avoid downloading new versions of the code file, you can pin a revision.\n",
      "A new version of the following files was downloaded from https://huggingface.co/jinaai/jina-bert-flash-implementation:\n",
      "- block.py\n",
      "- mlp.py\n",
      "- mha.py\n",
      ". Make sure to double-check they do not contain any added malicious code. To avoid downloading new versions of the code file, you can pin a revision.\n"
     ]
    },
    {
     "data": {
      "application/vnd.jupyter.widget-view+json": {
       "model_id": "fda67eb50cfc4ea082c025a7380a7ca7",
       "version_major": 2,
       "version_minor": 0
      },
      "text/plain": [
       "bert_padding.py:   0%|          | 0.00/9.78k [00:00<?, ?B/s]"
      ]
     },
     "metadata": {},
     "output_type": "display_data"
    },
    {
     "name": "stderr",
     "output_type": "stream",
     "text": [
      "A new version of the following files was downloaded from https://huggingface.co/jinaai/jina-bert-flash-implementation:\n",
      "- bert_padding.py\n",
      ". Make sure to double-check they do not contain any added malicious code. To avoid downloading new versions of the code file, you can pin a revision.\n"
     ]
    },
    {
     "data": {
      "application/vnd.jupyter.widget-view+json": {
       "model_id": "605d8602bdff4f6b8923530af04579da",
       "version_major": 2,
       "version_minor": 0
      },
      "text/plain": [
       "embedding.py:   0%|          | 0.00/2.26k [00:00<?, ?B/s]"
      ]
     },
     "metadata": {},
     "output_type": "display_data"
    },
    {
     "name": "stderr",
     "output_type": "stream",
     "text": [
      "A new version of the following files was downloaded from https://huggingface.co/jinaai/jina-bert-flash-implementation:\n",
      "- embedding.py\n",
      ". Make sure to double-check they do not contain any added malicious code. To avoid downloading new versions of the code file, you can pin a revision.\n",
      "A new version of the following files was downloaded from https://huggingface.co/jinaai/jina-bert-flash-implementation:\n",
      "- modeling_bert.py\n",
      "- block.py\n",
      "- bert_padding.py\n",
      "- embedding.py\n",
      ". Make sure to double-check they do not contain any added malicious code. To avoid downloading new versions of the code file, you can pin a revision.\n"
     ]
    }
   ],
   "source": [
    "from transformers import AutoModel\n",
    "\n",
    "# Initialize the model\n",
    "model = AutoModel.from_pretrained('jinaai/jina-clip-v1', trust_remote_code=True)"
   ]
  },
  {
   "cell_type": "code",
   "execution_count": 62,
   "id": "6b6848b7-7e73-42f9-a012-f3ac938118a2",
   "metadata": {},
   "outputs": [],
   "source": [
    "image_urls = [\"smarn_screenshots/mob1.jpg\", \"smarn_screenshots/keeb.jpg\", \"smarn_screenshots/mouse.jpg\"]"
   ]
  },
  {
   "cell_type": "code",
   "execution_count": 63,
   "id": "328a833c-f872-4c4d-928f-6c16bd686504",
   "metadata": {},
   "outputs": [],
   "source": [
    "image_emb = model.encode_image(image_urls)"
   ]
  },
  {
   "cell_type": "code",
   "execution_count": 67,
   "id": "fe98f825-80c2-430b-b111-b7916b033c42",
   "metadata": {},
   "outputs": [],
   "source": [
    "texts = [\"mobile phone\", \"keyboard\", \"mouse\"]"
   ]
  },
  {
   "cell_type": "code",
   "execution_count": 68,
   "id": "e4daa360-7f42-48e3-ad1f-7c1f4412682a",
   "metadata": {},
   "outputs": [],
   "source": [
    "text_emb = model.encode_text(texts)"
   ]
  },
  {
   "cell_type": "code",
   "execution_count": 69,
   "id": "2d61eefd-b8c6-4c1a-91ea-5d888855c9f5",
   "metadata": {},
   "outputs": [
    {
     "name": "stdout",
     "output_type": "stream",
     "text": [
      "0, 0: 0.05932207778096199\n",
      "0, 1: 0.04776044934988022\n",
      "0, 2: -0.014274496585130692\n",
      "1, 0: 0.1202186867594719\n",
      "1, 1: 0.1448458582162857\n",
      "1, 2: 0.02633815072476864\n",
      "2, 0: -0.010113535448908806\n",
      "2, 1: 0.0013039326295256615\n",
      "2, 2: 0.11262855678796768\n"
     ]
    }
   ],
   "source": [
    "for i in range(3):\n",
    "    for j in range(3):\n",
    "        print(f\"{i}, {j}: {text_emb[i] @ image_emb[j].T}\")"
   ]
  },
  {
   "cell_type": "code",
   "execution_count": null,
   "id": "4d19ac52-d249-4e41-9561-5bca41d52edc",
   "metadata": {},
   "outputs": [],
   "source": []
  },
  {
   "cell_type": "code",
   "execution_count": null,
   "id": "ca6cef70-8a9a-4511-a4e7-33619dc12443",
   "metadata": {},
   "outputs": [],
   "source": []
  }
 ],
 "metadata": {
  "kernelspec": {
   "display_name": "Python 3 (ipykernel)",
   "language": "python",
   "name": "python3"
  },
  "language_info": {
   "codemirror_mode": {
    "name": "ipython",
    "version": 3
   },
   "file_extension": ".py",
   "mimetype": "text/x-python",
   "name": "python",
   "nbconvert_exporter": "python",
   "pygments_lexer": "ipython3",
   "version": "3.12.6"
  }
 },
 "nbformat": 4,
 "nbformat_minor": 5
}
