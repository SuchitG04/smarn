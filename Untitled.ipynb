{
 "cells": [
  {
   "metadata": {},
   "cell_type": "code",
   "outputs": [],
   "execution_count": null,
   "source": [
    "from transformers import AutoModel\n",
    "\n",
    "# Initialize the model\n",
    "model = AutoModel.from_pretrained('jinaai/jina-clip-v1', trust_remote_code=True)"
   ],
   "id": "8ff6ff6228ed9e9a"
  },
  {
   "cell_type": "code",
   "id": "6b6848b7-7e73-42f9-a012-f3ac938118a2",
   "metadata": {
    "ExecuteTime": {
     "end_time": "2024-10-05T14:25:54.376079Z",
     "start_time": "2024-10-05T14:25:54.373190Z"
    }
   },
   "source": [
    "image_urls = [\"smarn_screenshots/mob1.jpg\", \"smarn_screenshots/keeb.jpg\", \"smarn_screenshots/mouse.jpg\"]"
   ],
   "outputs": [],
   "execution_count": 2
  },
  {
   "cell_type": "code",
   "id": "328a833c-f872-4c4d-928f-6c16bd686504",
   "metadata": {
    "ExecuteTime": {
     "end_time": "2024-10-05T14:46:29.095020Z",
     "start_time": "2024-10-05T14:46:28.991585Z"
    }
   },
   "source": [
    "image_emb = model.encode_image(image_urls[0])\n",
    "type(image_emb)"
   ],
   "outputs": [
    {
     "data": {
      "text/plain": [
       "numpy.ndarray"
      ]
     },
     "execution_count": 9,
     "metadata": {},
     "output_type": "execute_result"
    }
   ],
   "execution_count": 9
  },
  {
   "cell_type": "code",
   "id": "fe98f825-80c2-430b-b111-b7916b033c42",
   "metadata": {
    "ExecuteTime": {
     "end_time": "2024-10-05T14:25:58.454103Z",
     "start_time": "2024-10-05T14:25:58.451379Z"
    }
   },
   "source": [
    "texts = [\"mobile phone\", \"keyboard\", \"mouse\"]"
   ],
   "outputs": [],
   "execution_count": 4
  },
  {
   "cell_type": "code",
   "id": "e4daa360-7f42-48e3-ad1f-7c1f4412682a",
   "metadata": {
    "ExecuteTime": {
     "end_time": "2024-10-05T14:25:59.807290Z",
     "start_time": "2024-10-05T14:25:59.502187Z"
    }
   },
   "source": [
    "text_emb = model.encode_text(texts)"
   ],
   "outputs": [],
   "execution_count": 5
  },
  {
   "cell_type": "code",
   "id": "2d61eefd-b8c6-4c1a-91ea-5d888855c9f5",
   "metadata": {
    "ExecuteTime": {
     "end_time": "2024-10-05T14:26:00.831429Z",
     "start_time": "2024-10-05T14:26:00.828672Z"
    }
   },
   "source": [
    "for i in range(3):\n",
    "    for j in range(3):\n",
    "        print(f\"{i}, {j}: {text_emb[i] @ image_emb[j].T}\")"
   ],
   "outputs": [
    {
     "name": "stdout",
     "output_type": "stream",
     "text": [
      "0, 0: 0.1206793487071991\n",
      "0, 1: 0.029036322608590126\n",
      "0, 2: 0.06492890417575836\n",
      "1, 0: -0.02012445405125618\n",
      "1, 1: 0.23704743385314941\n",
      "1, 2: 0.08700680732727051\n",
      "2, 0: -0.010559355840086937\n",
      "2, 1: 0.052163854241371155\n",
      "2, 2: 0.23586174845695496\n"
     ]
    }
   ],
   "execution_count": 6
  },
  {
   "cell_type": "code",
   "execution_count": null,
   "id": "4d19ac52-d249-4e41-9561-5bca41d52edc",
   "metadata": {},
   "outputs": [],
   "source": []
  },
  {
   "cell_type": "code",
   "execution_count": null,
   "id": "ca6cef70-8a9a-4511-a4e7-33619dc12443",
   "metadata": {},
   "outputs": [],
   "source": []
  }
 ],
 "metadata": {
  "kernelspec": {
   "display_name": "Python 3 (ipykernel)",
   "language": "python",
   "name": "python3"
  },
  "language_info": {
   "codemirror_mode": {
    "name": "ipython",
    "version": 3
   },
   "file_extension": ".py",
   "mimetype": "text/x-python",
   "name": "python",
   "nbconvert_exporter": "python",
   "pygments_lexer": "ipython3",
   "version": "3.12.6"
  }
 },
 "nbformat": 4,
 "nbformat_minor": 5
}
